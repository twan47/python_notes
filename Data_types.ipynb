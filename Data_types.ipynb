{
 "cells": [
  {
   "cell_type": "code",
   "execution_count": null,
   "metadata": {},
   "outputs": [],
   "source": [
    "#Python notes written in Jupyter (on VSC)\n",
    "\n",
    "# DATA TYPES\n",
    "\n",
    "#Interger = int - whole numbers\n",
    "#float = float = has decimal points\n",
    "#Strings = str - ordered sequence of characters (have to be in '' or \"\")\n",
    "    #blocks of text\n",
    "#Lists = list - ordered sequence of objects [10, 'hello', 200.3]\n",
    "#Dictionaries = dict - Unordered key:Value pairs: {'mykey':'value','name',:'Frankie'}\n",
    "#Tuples = tup - Ordered immutable sequence of objects: (10,'hello'200.3)\n",
    "#Sets = set - Unordered collection of unique objects: ('a','b')\n",
    "#Booleans = bool - Logical value indicating True or False\n",
    "    #Equals: == Not Equals: !=\n",
    "\n",
    "#Print = telling the computer to talk"
   ]
  },
  {
   "cell_type": "code",
   "execution_count": null,
   "metadata": {},
   "outputs": [],
   "source": [
    "#if - statements for control flow\n",
    "#else - executes code when if is not met\n",
    "#elif - builds added checks into if statements\n",
    "#relational operator - compares two items and returns either True or False"
   ]
  },
  {
   "attachments": {},
   "cell_type": "markdown",
   "metadata": {},
   "source": [
    "Variables - store data or values\n",
    "    assigned using =\n",
    "        can't have spaces or symbols other then _\n",
    "        can't begin with numbers"
   ]
  },
  {
   "attachments": {},
   "cell_type": "markdown",
   "metadata": {},
   "source": [
    "Errors\n",
    "    Syntax Error - caused by not following the proper structure (syntax) of the language\n",
    "    Name Error - Errors reported when the interpreter detects a variable unknown\n",
    "    Type Error - Errors thrown when an operational is applied to an object of an innappropriate type"
   ]
  }
 ],
 "metadata": {
  "language_info": {
   "name": "python"
  },
  "orig_nbformat": 4
 },
 "nbformat": 4,
 "nbformat_minor": 2
}
