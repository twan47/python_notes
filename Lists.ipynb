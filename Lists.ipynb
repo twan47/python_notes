{
 "cells": [
  {
   "cell_type": "code",
   "execution_count": null,
   "metadata": {},
   "outputs": [],
   "source": [
    "#LISTS"
   ]
  },
  {
   "attachments": {},
   "cell_type": "markdown",
   "metadata": {},
   "source": [
    "Dictionaries\n",
    "    Uses {}\n",
    "    Keys must be unique\n",
    "    seperated by commas\n",
    "\n",
    "Insert\n",
    "    Adds element to specific index\n",
    "    requires 2 inputs (index to insert to, element to insert to)"
   ]
  },
  {
   "cell_type": "code",
   "execution_count": 15,
   "metadata": {},
   "outputs": [
    {
     "name": "stdout",
     "output_type": "stream",
     "text": [
      "('popcorn', 'Vikor', 'apples')\n"
     ]
    }
   ],
   "source": [
    "# for insert\n",
    "store_line = (\"popcorn\", \"apples\")\n",
    "store_list = list(store_line)\n",
    "store_list.insert(1, \"Vikor\")\n",
    "store_line = tuple(store_list)\n",
    "print(store_line)"
   ]
  },
  {
   "attachments": {},
   "cell_type": "markdown",
   "metadata": {},
   "source": [
    "Pop\n",
    "    removes elemnts at specific index"
   ]
  },
  {
   "cell_type": "code",
   "execution_count": 18,
   "metadata": {},
   "outputs": [
    {
     "name": "stdout",
     "output_type": "stream",
     "text": [
      "('computers', 'codes', 'python')\n"
     ]
    }
   ],
   "source": [
    "# for POP\n",
    "cs_topics = ('computers', 'science', 'codes', 'python')\n",
    "cs_list = list(cs_topics)\n",
    "cs_list.pop(1)\n",
    "cs_topics = tuple(cs_list)\n",
    "print(cs_topics)"
   ]
  },
  {
   "attachments": {},
   "cell_type": "markdown",
   "metadata": {},
   "source": [
    "Range\n",
    "    Takes single input, generates #'s starting at 0 and ending at # before the input"
   ]
  },
  {
   "cell_type": "code",
   "execution_count": 19,
   "metadata": {},
   "outputs": [
    {
     "name": "stdout",
     "output_type": "stream",
     "text": [
      "[0, 1, 2, 3, 4, 5, 6, 7, 8, 9]\n"
     ]
    }
   ],
   "source": [
    "# for Range\n",
    "my_range = range(10) #0-9\n",
    "print(list(my_range))"
   ]
  },
  {
   "attachments": {},
   "cell_type": "markdown",
   "metadata": {},
   "source": [
    "Length\n",
    "    # of items in list\n",
    "    built in"
   ]
  },
  {
   "cell_type": "code",
   "execution_count": 20,
   "metadata": {},
   "outputs": [
    {
     "name": "stdout",
     "output_type": "stream",
     "text": [
      "10\n"
     ]
    }
   ],
   "source": [
    "# for RANGE\n",
    "my_range = range(10)\n",
    "print(len(my_range))"
   ]
  },
  {
   "attachments": {},
   "cell_type": "markdown",
   "metadata": {},
   "source": [
    "Slicing\n",
    "    dividing a portion for a list"
   ]
  },
  {
   "cell_type": "code",
   "execution_count": 23,
   "metadata": {},
   "outputs": [
    {
     "name": "stdout",
     "output_type": "stream",
     "text": [
      "('oranges', 'pies')\n"
     ]
    }
   ],
   "source": [
    "#for SLICING\n",
    "list = ('apples', 'oranges', 'pies', 'sauce', 'potatoes', 'green peas', 'pizzas')\n",
    "sliced_list = list[1:3] #can also do [:3] or [2:]\n",
    "print(sliced_list)"
   ]
  },
  {
   "attachments": {},
   "cell_type": "markdown",
   "metadata": {},
   "source": [
    "Count\n",
    "    counts occurrences"
   ]
  },
  {
   "cell_type": "code",
   "execution_count": 25,
   "metadata": {},
   "outputs": [
    {
     "name": "stdout",
     "output_type": "stream",
     "text": [
      "3\n"
     ]
    }
   ],
   "source": [
    "#for COUNT\n",
    "list = ('i', '2', '3', '4', '5', 'i', '6', 'i', '7')\n",
    "num_i = list.count('i')\n",
    "print(num_i)"
   ]
  },
  {
   "attachments": {},
   "cell_type": "markdown",
   "metadata": {},
   "source": [
    "Sort\n",
    "    Sorts numerical or alphabetical\n",
    "    (reverse=True) to reverse"
   ]
  },
  {
   "cell_type": "code",
   "execution_count": 38,
   "metadata": {},
   "outputs": [
    {
     "name": "stdout",
     "output_type": "stream",
     "text": [
      "('Anthony', 'Bob', 'Daniel', 'Jim', 'Michael', 'Pepper')\n"
     ]
    }
   ],
   "source": [
    "#for SORT\n",
    "names = ('Anthony', 'Bob', 'Jim', 'Michael', 'Daniel', 'Pepper')\n",
    "sorted_names = sorted(names)\n",
    "names = tuple(sorted_names)\n",
    "print(names)"
   ]
  },
  {
   "attachments": {},
   "cell_type": "markdown",
   "metadata": {},
   "source": [
    "Tuples\n",
    "    Immutable list (elements can't be changed)\n",
    "    looks like  a list"
   ]
  },
  {
   "cell_type": "code",
   "execution_count": 39,
   "metadata": {},
   "outputs": [
    {
     "name": "stdout",
     "output_type": "stream",
     "text": [
      "('Anthony', 25, 'Programmer')\n"
     ]
    }
   ],
   "source": [
    "#for TUPLE\n",
    "my_info = ('Anthony', 25, 'Programmer')\n",
    "print(my_info)"
   ]
  },
  {
   "attachments": {},
   "cell_type": "markdown",
   "metadata": {},
   "source": [
    "ZIP\n",
    "    combine associated data-sets\n",
    "names = blah\n",
    "names_and_heights = zip(names, heights)\n",
    "conv_lists = list(names_heights)\n",
    "print(conv_list)"
   ]
  }
 ],
 "metadata": {
  "kernelspec": {
   "display_name": "Python 3",
   "language": "python",
   "name": "python3"
  },
  "language_info": {
   "codemirror_mode": {
    "name": "ipython",
    "version": 3
   },
   "file_extension": ".py",
   "mimetype": "text/x-python",
   "name": "python",
   "nbconvert_exporter": "python",
   "pygments_lexer": "ipython3",
   "version": "3.11.2"
  },
  "orig_nbformat": 4
 },
 "nbformat": 4,
 "nbformat_minor": 2
}
