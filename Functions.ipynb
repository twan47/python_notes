{
 "cells": [
  {
   "cell_type": "code",
   "execution_count": null,
   "metadata": {},
   "outputs": [],
   "source": [
    "#Functions"
   ]
  },
  {
   "cell_type": "code",
   "execution_count": null,
   "metadata": {},
   "outputs": [],
   "source": [
    "# def function_name():\n",
    "# def = beginning of a function\n",
    "# () = holds input values (parameters)\n",
    "# : = end of function header\n",
    "# name() = calling/executing a function"
   ]
  },
  {
   "cell_type": "code",
   "execution_count": 1,
   "metadata": {},
   "outputs": [
    {
     "name": "stdout",
     "output_type": "stream",
     "text": [
      "Looks like you are traveling from Prospect Park\n"
     ]
    }
   ],
   "source": [
    "def trip_welcome(origin, destination):\n",
    "    #           These are the parameters^\n",
    "    print(\"Looks like you are traveling from \" + origin)\n",
    "trip_welcome(\"Prospect Park\", \"Atlantic Terminal\")\n",
    "#               These are the call/arguments^"
   ]
  },
  {
   "attachments": {},
   "cell_type": "markdown",
   "metadata": {},
   "source": [
    "3 different argument types\n",
    "    positional - can be called by their position in the function definition\n",
    "    key word - can be called by their name\n",
    "    default - arguments that are given default values"
   ]
  },
  {
   "cell_type": "code",
   "execution_count": 2,
   "metadata": {},
   "outputs": [
    {
     "name": "stdout",
     "output_type": "stream",
     "text": [
      "995\n"
     ]
    }
   ],
   "source": [
    "# Positional argument\n",
    "def calc_taxi(miles, rate, discount):\n",
    "    print(miles * rate - discount)\n",
    "calc_taxi(100, 10, 5)\n",
    "#position of arguments are mapped to the positions in the function definition"
   ]
  },
  {
   "cell_type": "code",
   "execution_count": null,
   "metadata": {},
   "outputs": [],
   "source": [
    "#Key-word arguments\n",
    "calc_taxi(rate = 0.5, discount = 10, miles = 100)\n",
    "# Position of arguments is assigned in the function CALL"
   ]
  },
  {
   "cell_type": "code",
   "execution_count": 4,
   "metadata": {},
   "outputs": [
    {
     "name": "stdout",
     "output_type": "stream",
     "text": [
      "-5.0\n",
      "-15.0\n"
     ]
    }
   ],
   "source": [
    "#Default argument\n",
    "def calc_taxi_price(miles, rate, discount = 10):\n",
    "    print(miles * rate - discount)\n",
    "calc_taxi_price(10, 0.5)\n",
    "#uses default value of 10 for discount \n",
    "calc_taxi_price(10, 0.5, 20)\n",
    "#OVERWRITES default value of 10 to 20\n",
    "#can give default values in the function and can overwrite them in the call"
   ]
  },
  {
   "attachments": {},
   "cell_type": "markdown",
   "metadata": {},
   "source": [
    "Return\n",
    "    Functions can return a value to the program so that value can be modified or used later"
   ]
  },
  {
   "cell_type": "code",
   "execution_count": 6,
   "metadata": {},
   "outputs": [
    {
     "name": "stdout",
     "output_type": "stream",
     "text": [
      "100 dollars in US currency would give you \n"
     ]
    },
    {
     "data": {
      "text/plain": [
       "'140.0 New Zealand dollars'"
      ]
     },
     "execution_count": 6,
     "metadata": {},
     "output_type": "execute_result"
    }
   ],
   "source": [
    "def calc_ex_usd(usd, ex_rate):\n",
    "    return usd * ex_rate\n",
    "new_zealand_ex = calc_ex_usd(100, 1.4)\n",
    "print(\"100 dollars in US currency would give you \")\n",
    "str(new_zealand_ex) + \" New Zealand dollars\"\n",
    "#returned function value - a result from a function that is stored in a variable"
   ]
  }
 ],
 "metadata": {
  "kernelspec": {
   "display_name": "Python 3",
   "language": "python",
   "name": "python3"
  },
  "language_info": {
   "codemirror_mode": {
    "name": "ipython",
    "version": 3
   },
   "file_extension": ".py",
   "mimetype": "text/x-python",
   "name": "python",
   "nbconvert_exporter": "python",
   "pygments_lexer": "ipython3",
   "version": "3.11.2"
  },
  "orig_nbformat": 4
 },
 "nbformat": 4,
 "nbformat_minor": 2
}
