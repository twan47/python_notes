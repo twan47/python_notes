{
 "cells": [
  {
   "cell_type": "code",
   "execution_count": 1,
   "metadata": {},
   "outputs": [],
   "source": [
    "#Strings"
   ]
  },
  {
   "attachments": {},
   "cell_type": "markdown",
   "metadata": {},
   "source": [
    "Strings = sequence of characters in '' or \"\"\n",
    "        can be any length and contain any #'s, letters, symbols, and spaces"
   ]
  },
  {
   "cell_type": "code",
   "execution_count": 2,
   "metadata": {},
   "outputs": [
    {
     "name": "stdout",
     "output_type": "stream",
     "text": [
      "A\n"
     ]
    }
   ],
   "source": [
    "#Indices\n",
    "my_name = 'Anthony'\n",
    "first_initial = my_name[0]\n",
    "print(my_name[0])"
   ]
  },
  {
   "cell_type": "code",
   "execution_count": 3,
   "metadata": {},
   "outputs": [
    {
     "name": "stdout",
     "output_type": "stream",
     "text": [
      "An\n",
      "Ant\n"
     ]
    }
   ],
   "source": [
    "#Slicing\n",
    "name = 'Anthony'\n",
    "print(name[0:2])\n",
    "print(name[:3])"
   ]
  },
  {
   "cell_type": "code",
   "execution_count": 4,
   "metadata": {},
   "outputs": [
    {
     "name": "stdout",
     "output_type": "stream",
     "text": [
      "AnthonyNewell\n"
     ]
    }
   ],
   "source": [
    "#Connecting Strings\n",
    "f_name = 'Anthony'\n",
    "l_name = 'Newell'\n",
    "full_name = f_name + l_name\n",
    "print(full_name)"
   ]
  },
  {
   "attachments": {},
   "cell_type": "markdown",
   "metadata": {},
   "source": [
    "In\n",
    "    easy way to check if one string is a part of another string\n",
    "    ex: letter in word\n",
    "    can also use 'and' , 'and not'"
   ]
  },
  {
   "cell_type": "code",
   "execution_count": 6,
   "metadata": {},
   "outputs": [
    {
     "name": "stdout",
     "output_type": "stream",
     "text": [
      "True\n",
      "False\n",
      "True\n"
     ]
    }
   ],
   "source": [
    "print(\"blue\" in \"blueberry\")\n",
    "print(\"e\" in \"blueberry\" and \"e\" in \"carrot\")\n",
    "print(\"e\" in \"blueberry\" and not \"e\" in \"carrot\")"
   ]
  }
 ],
 "metadata": {
  "kernelspec": {
   "display_name": "Python 3",
   "language": "python",
   "name": "python3"
  },
  "language_info": {
   "codemirror_mode": {
    "name": "ipython",
    "version": 3
   },
   "file_extension": ".py",
   "mimetype": "text/x-python",
   "name": "python",
   "nbconvert_exporter": "python",
   "pygments_lexer": "ipython3",
   "version": "3.11.2"
  },
  "orig_nbformat": 4,
  "vscode": {
   "interpreter": {
    "hash": "3903b15c2282ace6078291df4fb90d620b697b0307137ce8252d428f00e53135"
   }
  }
 },
 "nbformat": 4,
 "nbformat_minor": 2
}
