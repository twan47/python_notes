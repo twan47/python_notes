{
 "cells": [
  {
   "cell_type": "code",
   "execution_count": null,
   "metadata": {},
   "outputs": [],
   "source": [
    "#Python notes written in Jupyter (on VSC)\n",
    "\n",
    "# DATA TYPES\n",
    "\n",
    "#Interger = int - whole numbers\n",
    "#Strings = str - ordered sequence of characters (have to be in '' or \"\")\n",
    "#Lists = list - ordered sequence of objects [10, 'hello',200.3]\n",
    "#Dictionaries = dict - Unordered key:Value pairs: {'mykey':'value','name',:'Frankie'}\n",
    "#Tuples = tup - Ordered immutable sequence of objects: (10,'hello'200.3)\n",
    "#Sets = set - Unordered collection of unique objects: ('a','b')\n",
    "#Booleans = bool - Logical value indicating True or False"
   ]
  }
 ],
 "metadata": {
  "language_info": {
   "name": "python"
  },
  "orig_nbformat": 4
 },
 "nbformat": 4,
 "nbformat_minor": 2
}
